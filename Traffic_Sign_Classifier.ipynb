{
 "cells": [
  {
   "cell_type": "markdown",
   "metadata": {
    "deletable": true,
    "editable": true
   },
   "source": [
    "# Self-Driving Car Engineer Nanodegree\n",
    "\n",
    "## Deep Learning\n",
    "\n",
    "## Project: Build a Traffic Sign Recognition Classifier\n",
    "\n",
    "In this notebook, a template is provided for you to implement your functionality in stages, which is required to successfully complete this project. If additional code is required that cannot be included in the notebook, be sure that the Python code is successfully imported and included in your submission if necessary. \n",
    "\n",
    "> **Note**: Once you have completed all of the code implementations, you need to finalize your work by exporting the iPython Notebook as an HTML document. Before exporting the notebook to html, all of the code cells need to have been run so that reviewers can see the final implementation and output. You can then export the notebook by using the menu above and navigating to  \\n\",\n",
    "    \"**File -> Download as -> HTML (.html)**. Include the finished document along with this notebook as your submission. \n",
    "\n",
    "In addition to implementing code, there is a writeup to complete. The writeup should be completed in a separate file, which can be either a markdown file or a pdf document. There is a [write up template](https://github.com/udacity/CarND-Traffic-Sign-Classifier-Project/blob/master/writeup_template.md) that can be used to guide the writing process. Completing the code template and writeup template will cover all of the [rubric points](https://review.udacity.com/#!/rubrics/481/view) for this project.\n",
    "\n",
    "The [rubric](https://review.udacity.com/#!/rubrics/481/view) contains \"Stand Out Suggestions\" for enhancing the project beyond the minimum requirements. The stand out suggestions are optional. If you decide to pursue the \"stand out suggestions\", you can include the code in this Ipython notebook and also discuss the results in the writeup file.\n",
    "\n",
    "\n",
    ">**Note:** Code and Markdown cells can be executed using the **Shift + Enter** keyboard shortcut. In addition, Markdown cells can be edited by typically double-clicking the cell to enter edit mode."
   ]
  },
  {
   "cell_type": "markdown",
   "metadata": {
    "deletable": true,
    "editable": true
   },
   "source": [
    "---\n",
    "## Step 0: Load The Data"
   ]
  },
  {
   "cell_type": "code",
   "execution_count": 12,
   "metadata": {
    "collapsed": false,
    "deletable": true,
    "editable": true
   },
   "outputs": [],
   "source": [
    "# Load pickled data\n",
    "import pickle\n",
    "import numpy as np\n",
    "# TODO: Fill this in based on where you saved the training and testing data\n",
    "\n",
    "training_file = './train.p'\n",
    "validation_file= './valid.p'\n",
    "testing_file = './test.p'\n",
    "\n",
    "with open(training_file, mode='rb') as f:\n",
    "    train = pickle.load(f)\n",
    "with open(validation_file, mode='rb') as f:\n",
    "    valid = pickle.load(f)\n",
    "with open(testing_file, mode='rb') as f:\n",
    "    test = pickle.load(f)\n",
    "    \n",
    "X_train, y_train = train['features'], train['labels']\n",
    "X_valid, y_valid = valid['features'], valid['labels']\n",
    "X_test, y_test = test['features'], test['labels']"
   ]
  },
  {
   "cell_type": "markdown",
   "metadata": {
    "deletable": true,
    "editable": true
   },
   "source": [
    "---\n",
    "\n",
    "## Step 1: Dataset Summary & Exploration\n",
    "\n",
    "The pickled data is a dictionary with 4 key/value pairs:\n",
    "\n",
    "- `'features'` is a 4D array containing raw pixel data of the traffic sign images, (num examples, width, height, channels).\n",
    "- `'labels'` is a 1D array containing the label/class id of the traffic sign. The file `signnames.csv` contains id -> name mappings for each id.\n",
    "- `'sizes'` is a list containing tuples, (width, height) representing the original width and height the image.\n",
    "- `'coords'` is a list containing tuples, (x1, y1, x2, y2) representing coordinates of a bounding box around the sign in the image. **THESE COORDINATES ASSUME THE ORIGINAL IMAGE. THE PICKLED DATA CONTAINS RESIZED VERSIONS (32 by 32) OF THESE IMAGES**\n",
    "\n",
    "Complete the basic data summary below. Use python, numpy and/or pandas methods to calculate the data summary rather than hard coding the results. For example, the [pandas shape method](http://pandas.pydata.org/pandas-docs/stable/generated/pandas.DataFrame.shape.html) might be useful for calculating some of the summary results. "
   ]
  },
  {
   "cell_type": "markdown",
   "metadata": {
    "deletable": true,
    "editable": true
   },
   "source": [
    "### Provide a Basic Summary of the Data Set Using Python, Numpy and/or Pandas"
   ]
  },
  {
   "cell_type": "code",
   "execution_count": 13,
   "metadata": {
    "collapsed": false,
    "deletable": true,
    "editable": true
   },
   "outputs": [
    {
     "name": "stdout",
     "output_type": "stream",
     "text": [
      "Number of training examples = 34799\n",
      "Number of validation examples =  4410\n",
      "Number of testing examples = 12630\n",
      "Image data shape = (32, 32, 3)\n",
      "Number of classes = 43\n"
     ]
    }
   ],
   "source": [
    "### Replace each question mark with the appropriate value. \n",
    "### Use python, pandas or numpy methods rather than hard coding the results\n",
    "\n",
    "# TODO: Number of training examples\n",
    "n_train = len(X_train)\n",
    "\n",
    "# TODO: Number of validation examples\n",
    "n_validation = len(X_valid)\n",
    "\n",
    "# TODO: Number of testing examples.\n",
    "n_test = len(X_test)\n",
    "\n",
    "# TODO: What's the shape of an traffic sign image?\n",
    "image_shape = X_train[0].shape\n",
    "\n",
    "# TODO: How many unique classes/labels there are in the dataset.\n",
    "n_classes = len(set(y_train))\n",
    "\n",
    "print(\"Number of training examples =\", n_train)\n",
    "print(\"Number of validation examples = \", n_validation)\n",
    "print(\"Number of testing examples =\", n_test)\n",
    "print(\"Image data shape =\", image_shape)\n",
    "print(\"Number of classes =\", n_classes)"
   ]
  },
  {
   "cell_type": "markdown",
   "metadata": {
    "deletable": true,
    "editable": true
   },
   "source": [
    "### Include an exploratory visualization of the dataset"
   ]
  },
  {
   "cell_type": "markdown",
   "metadata": {
    "deletable": true,
    "editable": true
   },
   "source": [
    "Visualize the German Traffic Signs Dataset using the pickled file(s). This is open ended, suggestions include: plotting traffic sign images, plotting the count of each sign, etc. \n",
    "\n",
    "The [Matplotlib](http://matplotlib.org/) [examples](http://matplotlib.org/examples/index.html) and [gallery](http://matplotlib.org/gallery.html) pages are a great resource for doing visualizations in Python.\n",
    "\n",
    "**NOTE:** It's recommended you start with something simple first. If you wish to do more, come back to it after you've completed the rest of the sections. It can be interesting to look at the distribution of classes in the training, validation and test set. Is the distribution the same? Are there more examples of some classes than others?"
   ]
  },
  {
   "cell_type": "code",
   "execution_count": 14,
   "metadata": {
    "collapsed": false,
    "deletable": true,
    "editable": true,
    "scrolled": false
   },
   "outputs": [
    {
     "name": "stdout",
     "output_type": "stream",
     "text": [
      "Randomly show some traffic sign images\n",
      "[38  2 18 26  7  7]\n",
      "Show the histogram of each sign\n"
     ]
    },
    {
     "data": {
      "text/plain": [
       "<matplotlib.axes._subplots.AxesSubplot at 0x7f969a994ef0>"
      ]
     },
     "execution_count": 14,
     "metadata": {},
     "output_type": "execute_result"
    },
    {
     "data": {
      "image/png": "[encoded data removed]",
      "text/plain": [
       "<matplotlib.figure.Figure at 0x7f9697e31d68>"
      ]
     },
     "metadata": {},
     "output_type": "display_data"
    },
    {
     "data": {
      "image/png": "[encoded data removed]",
      "text/plain": [
       "<matplotlib.figure.Figure at 0x7f969a994438>"
      ]
     },
     "metadata": {},
     "output_type": "display_data"
    }
   ],
   "source": [
    "### Data exploration visualization code goes here.\n",
    "### Feel free to use as many code cells as needed.\n",
    "import matplotlib.pyplot as plt\n",
    "import pandas as pd\n",
    "import random\n",
    "# Visualizations will be shown in the notebook.\n",
    "%matplotlib inline\n",
    "\n",
    "# randomly plot some traffic sign\n",
    "print('Randomly show some traffic sign images')\n",
    "indexs = random.sample(range(0, len(X_train)),k=6)\n",
    "images = [X_train[i] for i in indexs]\n",
    "print(y_train[indexs])\n",
    "fig, axes = plt.subplots(figsize=(9,9), ncols=3, nrows=2)\n",
    "for ax, img in zip(axes.flatten(), images):\n",
    "    ax.imshow(img.squeeze())\n",
    "\n",
    "    \n",
    "# Plot the counts of each sign\n",
    "print('Show the histogram of each sign')\n",
    "df_train = pd.DataFrame({'y_train': y_train})\n",
    "df_train.plot.hist(bins=len(set(y_train)))\n",
    "\n",
    "#X_train_nor = ((X_train.astype(np.float32)) - 128) / 128.\n",
    "#plt.figure(figsize=(3,3))\n",
    "#plt.imshow(X_train_nor[0])"
   ]
  },
  {
   "cell_type": "markdown",
   "metadata": {
    "deletable": true,
    "editable": true
   },
   "source": [
    "----\n",
    "\n",
    "## Step 2: Design and Test a Model Architecture\n",
    "\n",
    "Design and implement a deep learning model that learns to recognize traffic signs. Train and test your model on the [German Traffic Sign Dataset](http://benchmark.ini.rub.de/?section=gtsrb&subsection=dataset).\n",
    "\n",
    "The LeNet-5 implementation shown in the [classroom](https://classroom.udacity.com/nanodegrees/nd013/parts/fbf77062-5703-404e-b60c-95b78b2f3f9e/modules/6df7ae49-c61c-4bb2-a23e-6527e69209ec/lessons/601ae704-1035-4287-8b11-e2c2716217ad/concepts/d4aca031-508f-4e0b-b493-e7b706120f81) at the end of the CNN lesson is a solid starting point. You'll have to change the number of classes and possibly the preprocessing, but aside from that it's plug and play! \n",
    "\n",
    "With the LeNet-5 solution from the lecture, you should expect a validation set accuracy of about 0.89. To meet specifications, the validation set accuracy will need to be at least 0.93. It is possible to get an even higher accuracy, but 0.93 is the minimum for a successful project submission. \n",
    "\n",
    "There are various aspects to consider when thinking about this problem:\n",
    "\n",
    "- Neural network architecture (is the network over or underfitting?)\n",
    "- Play around preprocessing techniques (normalization, rgb to grayscale, etc)\n",
    "- Number of examples per label (some have more than others).\n",
    "- Generate fake data.\n",
    "\n",
    "Here is an example of a [published baseline model on this problem](http://yann.lecun.com/exdb/publis/pdf/sermanet-ijcnn-11.pdf). It's not required to be familiar with the approach used in the paper but, it's good practice to try to read papers like these."
   ]
  },
  {
   "cell_type": "markdown",
   "metadata": {
    "deletable": true,
    "editable": true
   },
   "source": [
    "### Pre-process the Data Set (normalization, grayscale, etc.)"
   ]
  },
  {
   "cell_type": "markdown",
   "metadata": {
    "deletable": true,
    "editable": true
   },
   "source": [
    "Minimally, the image data should be normalized so that the data has mean zero and equal variance. For image data, `(pixel - 128)/ 128` is a quick way to approximately normalize the data and can be used in this project. \n",
    "\n",
    "Other pre-processing steps are optional. You can try different techniques to see if it improves performance. \n",
    "\n",
    "Use the code cell (or multiple code cells, if necessary) to implement the first step of your project."
   ]
  },
  {
   "cell_type": "code",
   "execution_count": 15,
   "metadata": {
    "collapsed": false,
    "deletable": true,
    "editable": true
   },
   "outputs": [
    {
     "name": "stdout",
     "output_type": "stream",
     "text": [
      "(34799, 32, 32)\n"
     ]
    }
   ],
   "source": [
    "### Preprocess the data here. It is required to normalize the data. Other preprocessing steps could include \n",
    "### converting to grayscale, etc.\n",
    "### Feel free to use as many code cells as needed.\n",
    "# now, only nomalize\n",
    "#X_tr_nor = ((X_train.astype(np.float32)) - 128) / 128.\n",
    "#X_va_nor = ((X_valid.astype(np.float32)) - 128) / 128.\n",
    "#print(X_tr_nor[0][0])\n",
    "#print(X_va_nor[0][0])\n",
    "\n",
    "import cv2\n",
    "YUV_tr = np.array([cv2.cvtColor(xx.astype(np.float32), cv2.COLOR_RGB2YCrCb)  for xx in X_train])\n",
    "gray_tr = np.array([cv2.cvtColor(xx.astype(np.float32), cv2.COLOR_RGB2GRAY)  for xx in X_train])\n",
    "YUV_va = np.array([cv2.cvtColor(xx.astype(np.float32), cv2.COLOR_RGB2YCrCb)  for xx in X_valid])\n",
    "YUV_ts = np.array([cv2.cvtColor(xx.astype(np.float32), cv2.COLOR_RGB2YCrCb)  for xx in X_test])\n",
    "#print(YUV_tr[0,:,:,0])\n",
    "print(gray_tr.shape)\n",
    "#X_tr_nor = YUV_tr\n",
    "X_tr_nor = (YUV_tr[:,:,:,0] - 128.) / 128.\n",
    "X_tr_nor = X_tr_nor[..., np.newaxis]\n",
    "#print(X_tr_nor[0,:,:,0])\n",
    "#print(X_tr_nor[:,:,:,2].max())\n",
    "#X_va_nor = YUV_va\n",
    "X_va_nor = (YUV_va[:,:,:,0] - 128.) / 128.\n",
    "X_va_nor = X_va_nor[..., np.newaxis]\n",
    "\n",
    "X_ts_nor = (YUV_ts[:,:,:,0] - 128.) / 128.\n",
    "X_ts_nor = X_ts_nor[..., np.newaxis]\n",
    "\n",
    "#print(X_tr_nor.shape)\n",
    "#print(X_va_nor.shape)\n",
    "#pro_images = [X_train[0], X_tr_nor[0], YUV_tr[0], gray_tr[0]]\n",
    "#fig, axes = plt.subplots(figsize=(8,4), ncols=4, nrows=1)\n",
    "#for ax, img in zip(axes.flatten(), pro_images):\n",
    "#    ax.imshow(img.squeeze(),cmap='gray')\n",
    "\n",
    "# manually get Y channel (YUV) from RGB => Y = 0.299 * R + 0.587 * G + 0.114 * B;\n",
    "#Ych_tr = 0.299 * X_train[:,:,:,0] + 0.587 * X_train[:,:,:,1] + 0.114 * X_train[:,:,:,2]\n",
    "#Ych_va = 0.299 * X_train[:,:,:,0] + 0.587 * X_train[:,:,:,1] + 0.114 * X_train[:,:,:,2]\n",
    "#print((X_train.shape))\n",
    "#print(Ych_tr.shape)\n",
    "#print(type(Ych_tr))\n",
    "#print(Ych_tr[0,:,:])\n",
    "#Ych_tr_nor = (Ych_tr - 128.0) / 128.0\n",
    "#print(Ych_tr_nor.max())\n",
    "#Ych_va_nor = (Ych_va - 128.0) / 128.0"
   ]
  },
  {
   "cell_type": "markdown",
   "metadata": {
    "deletable": true,
    "editable": true
   },
   "source": [
    "### Model Architecture\n",
    "Based on LeNet, and I add dropout to avoid overfitting, and increase feature to improve accuracy."
   ]
  },
  {
   "cell_type": "code",
   "execution_count": 38,
   "metadata": {
    "collapsed": false,
    "deletable": true,
    "editable": true
   },
   "outputs": [],
   "source": [
    "### Define your architecture here.\n",
    "### Feel free to use as many code cells as needed.\n",
    "from tensorflow.contrib.layers import flatten\n",
    "import tensorflow as tf\n",
    "EPOCHS = 60\n",
    "BATCH_SIZE = 128\n",
    "Dropout = 0.5 # Dropout, Probability to keep units\n",
    "\n",
    "def LeNet(X, dropout):\n",
    "    '''\n",
    "    Define LeNet Architecture for train traffic sign images.\n",
    "    Input X, a set of nparray (images) with shape (32, 32, 3)\n",
    "    Return logit, tf.Variable\n",
    "    '''\n",
    "    # Arguments used for tf.truncated_normal, randomly defines variables for the weights and biases for each layer\n",
    "    mu = 0\n",
    "    sigma = 0.1\n",
    "    \n",
    "    # Network parameters\n",
    "    n_classes = 43 # Number of output classes\n",
    "    \n",
    "    weights = {\n",
    "        'wc1': tf.Variable(tf.truncated_normal([5, 5, 1, 15], mean=mu, stddev=sigma), name='w1'),\n",
    "        'wc2': tf.Variable(tf.truncated_normal([5, 5, 15, 40], mean=mu, stddev=sigma), name='w2'),\n",
    "        #'wf25': tf.Variable(tf.truncated_normal([3940, 1000], mean=mu, stddev=sigma), name='w25'),\n",
    "        'wf3': tf.Variable(tf.truncated_normal([1000, 300], mean=mu, stddev=sigma), name='w3'),\n",
    "        'wf4': tf.Variable(tf.truncated_normal([300, 210], mean=mu, stddev=sigma), name='w4'),\n",
    "        'out': tf.Variable(tf.truncated_normal([210, n_classes], mean=mu, stddev=sigma), name='w_out')\n",
    "    }\n",
    "    biases = {\n",
    "        'bc1': tf.Variable(tf.truncated_normal([15], mean=mu, stddev=sigma), name='b1'),\n",
    "        'bc2': tf.Variable(tf.truncated_normal([40], mean=mu, stddev=sigma), name='b2'),\n",
    "        #'bf25': tf.Variable(tf.truncated_normal([1000], mean=mu, stddev=sigma), name='b25'),\n",
    "        'bf3': tf.Variable(tf.truncated_normal([300], mean=mu, stddev=sigma), name='b3'),\n",
    "        'bf4': tf.Variable(tf.truncated_normal([210], mean=mu, stddev=sigma), name='b4'),\n",
    "        'out': tf.Variable(tf.truncated_normal([n_classes], mean=mu, stddev=sigma), name='b_out')\n",
    "    }\n",
    "\n",
    "    # TODO: Layer 1: Convolutional. Input = 32x32x1. Output = 28x28x15.\n",
    "    cs1 = 1 # stride of conv1\n",
    "    conv1 = tf.nn.conv2d(x, weights['wc1'], strides=[1, cs1, cs1, 1], padding='VALID')\n",
    "    conv1 = tf.nn.bias_add(conv1, biases['bc1'])\n",
    "\n",
    "    # TODO: Activation.\n",
    "    conv1 = tf.nn.relu(conv1)\n",
    "\n",
    "    # TODO: Pooling. Input = 28x28x15. Output = 14x14x15.\n",
    "    pw1 = 2 # width of pooling\n",
    "    conv1 = tf.nn.max_pool(\n",
    "        conv1,\n",
    "        ksize=[1, pw1, pw1, 1],\n",
    "        strides=[1, pw1, pw1, 1],\n",
    "        padding='VALID')\n",
    "\n",
    "    # TODO: Layer 2: Convolutional. Output = 10x10x40.\n",
    "    cs2 = 1 # stride of conv2\n",
    "    conv2 = tf.nn.conv2d(conv1, weights['wc2'], strides=[1, cs2, cs2, 1], padding='VALID')\n",
    "    conv2 = tf.nn.bias_add(conv2, biases['bc2'])\n",
    "\n",
    "    # TODO: Activation.\n",
    "    conv2 = tf.nn.relu(conv2)\n",
    "\n",
    "    # TODO: Pooling. Input = 10x10x40. Output = 5x5x40.\n",
    "    pw2 = 2 # width of pooling 2.\n",
    "    conv2 = tf.nn.max_pool(\n",
    "        conv2,\n",
    "        ksize=[1, pw2, pw2, 1],\n",
    "        strides=[1, pw2, pw2, 1],\n",
    "        padding='VALID')\n",
    "\n",
    "    # TODO: Flatten. Input = 5x5x40. Output = 1000.\n",
    "    fc0 = flatten(conv2)  # 5x5x40 = 1000 features\n",
    "    #print(tf.shape(fc2), type(fc2))\n",
    "    #fc1 = flatten(conv1)  # 14x14x15 = 2940 feature \n",
    "    #print(tf.shape(fc1), type(fc1))\n",
    "    #fc0 = tf.concat(1, [fc2, fc1])  \n",
    "    #fc0 = tf.reshape(conv2, [-1, weights['wf3'].get_shape().as_list()[0]])\n",
    "\n",
    "    # Layer 2.5 : concatenate layer 1, layer 2 features, input = 3940, output = 1000\n",
    "    #fc0 = tf.add(tf.matmul(fc0, weights['wf25']), biases['bf25'])\n",
    "    #fc0 = tf.nn.relu(fc0)\n",
    "    #fc0 = tf.nn.dropout(fc0, dropout)\n",
    "    \n",
    "    # TODO: Layer 3: Fully Connected. Input = 1000. Output = 300.\n",
    "    conv3 = tf.add(tf.matmul(fc0, weights['wf3']), biases['bf3'])\n",
    "\n",
    "    # TODO: Activation.\n",
    "    conv3 = tf.nn.relu(conv3)\n",
    "    \n",
    "    # Add Dropout (regulator).\n",
    "    conv3 = tf.nn.dropout(conv3, dropout)\n",
    "\n",
    "    # TODO: Layer 4: Fully Connected. Input = 300. Output = 210.\n",
    "    conv4 = tf.add(tf.matmul(conv3, weights['wf4']), biases['bf4'])\n",
    "\n",
    "    # TODO: Activation.\n",
    "    conv4 = tf.nn.relu(conv4)\n",
    "    \n",
    "    # Add Dropout (regulator) berfore last layer.\n",
    "    conv4 = tf.nn.dropout(conv4, dropout)\n",
    "\n",
    "    # TODO: Layer 5: Fully Connected. Input = 210. Output = 43.\n",
    "    logits = tf.add(tf.matmul(conv4, weights['out']), biases['out'])\n",
    "\n",
    "    # Return the result of the last fully connected layer.\n",
    "    return logits"
   ]
  },
  {
   "cell_type": "markdown",
   "metadata": {},
   "source": [
    "## Modified Model Architecture\n",
    "I also try to write a modified Model.\n",
    "Based on __Traffic Sign Recognition with Multi-Scale Convolutional Networks__ [Author: Pierre Sermanet and Yann LeCun]\n",
    "But the current architecture did not get better result, not use in final report."
   ]
  },
  {
   "cell_type": "code",
   "execution_count": 39,
   "metadata": {
    "collapsed": true
   },
   "outputs": [],
   "source": [
    "### Define your architecture here.\n",
    "\n",
    "def LeNet2(X, dropout):\n",
    "    '''\n",
    "    Define LeNet Architecture for train traffic sign images.\n",
    "    Input X, a set of nparray (images) with shape (32, 32, 3)\n",
    "    Return logit, tf.Variable\n",
    "    '''\n",
    "    # Arguments used for tf.truncated_normal, randomly defines variables for the weights and biases for each layer\n",
    "    mu = 0\n",
    "    sigma = 0.1\n",
    "    \n",
    "    # Network parameters\n",
    "    n_classes = 43 # Number of output classes\n",
    "    \n",
    "    weights = {\n",
    "        'wc1': tf.Variable(tf.truncated_normal([5, 5, 1, 32], mean=mu, stddev=sigma), name='w1'),\n",
    "        'wc2': tf.Variable(tf.truncated_normal([5, 5, 32, 64], mean=mu, stddev=sigma), name='w2'),\n",
    "        'wc3': tf.Variable(tf.truncated_normal([5, 5, 64, 1600], mean=mu, stddev=sigma), name='w3'),\n",
    "        'wf35': tf.Variable(tf.truncated_normal([3200, 800], mean=mu, stddev=sigma), name='w35'),\n",
    "        'wf4': tf.Variable(tf.truncated_normal([800, 300], mean=mu, stddev=sigma), name='w4'),\n",
    "        'wf5': tf.Variable(tf.truncated_normal([300, 210], mean=mu, stddev=sigma), name='w5'),\n",
    "        'out': tf.Variable(tf.truncated_normal([210, n_classes], mean=mu, stddev=sigma), name='w_out')\n",
    "    }\n",
    "    biases = {\n",
    "        'bc1': tf.Variable(tf.truncated_normal([32], mean=mu, stddev=sigma), name='b1'),\n",
    "        'bc2': tf.Variable(tf.truncated_normal([64], mean=mu, stddev=sigma), name='b2'),\n",
    "        'bc3': tf.Variable(tf.truncated_normal([1600], mean=mu, stddev=sigma), name='b3'),\n",
    "        'bf35': tf.Variable(tf.truncated_normal([800], mean=mu, stddev=sigma), name='b35'),\n",
    "        'bf4': tf.Variable(tf.truncated_normal([300], mean=mu, stddev=sigma), name='b4'),\n",
    "        'bf5': tf.Variable(tf.truncated_normal([210], mean=mu, stddev=sigma), name='b5'),\n",
    "        'out': tf.Variable(tf.truncated_normal([n_classes], mean=mu, stddev=sigma), name='b_out')\n",
    "    }\n",
    "\n",
    "    # TODO: Layer 1: Convolutional. Input = 32x32x3. Output = 28x28x15.\n",
    "    cs1 = 1 # stride of conv1\n",
    "    conv1 = tf.nn.conv2d(x, weights['wc1'], strides=[1, cs1, cs1, 1], padding='VALID')\n",
    "    conv1 = tf.nn.bias_add(conv1, biases['bc1'])\n",
    "\n",
    "    # TODO: Activation.\n",
    "    conv1 = tf.nn.relu(conv1)\n",
    "\n",
    "    # TODO: Pooling. Input = 28x28x15. Output = 14x14x15.\n",
    "    pw1 = 2 # width of pooling\n",
    "    conv1 = tf.nn.max_pool(\n",
    "        conv1,\n",
    "        ksize=[1, pw1, pw1, 1],\n",
    "        strides=[1, pw1, pw1, 1],\n",
    "        padding='VALID')\n",
    "\n",
    "    # TODO: Layer 2: Convolutional. Output = 10x10x40.\n",
    "    cs2 = 1 # stride of conv2\n",
    "    conv2 = tf.nn.conv2d(conv1, weights['wc2'], strides=[1, cs2, cs2, 1], padding='VALID')\n",
    "    conv2 = tf.nn.bias_add(conv2, biases['bc2'])\n",
    "\n",
    "    # TODO: Activation.\n",
    "    conv2 = tf.nn.relu(conv2)\n",
    "\n",
    "    # TODO: Pooling. Input = 10x10x40. Output = 5x5x40.\n",
    "    pw2 = 2 # width of pooling 2.\n",
    "    conv2 = tf.nn.max_pool(\n",
    "        conv2,\n",
    "        ksize=[1, pw2, pw2, 1],\n",
    "        strides=[1, pw2, pw2, 1],\n",
    "        padding='VALID')\n",
    "\n",
    "    # TODO: Layer 3: Convolutional. Output = 1x1x1000.\n",
    "    cs3 = 1 # stride of conv2\n",
    "    conv3 = tf.nn.conv2d(conv2, weights['wc3'], strides=[1, cs3, cs3, 1], padding='VALID')\n",
    "    conv3 = tf.nn.bias_add(conv3, biases['bc3'])\n",
    "\n",
    "    # TODO: Activation.\n",
    "    conv3 = tf.nn.relu(conv3)\n",
    "    \n",
    "    # TODO: Flatten. Input = 1x1x1000. Output = 1000.\n",
    "    fc2 = flatten(conv3)  # 1x1x1000 = 1000 features\n",
    "    #print(tf.shape(fc2), type(fc2))\n",
    "    fc1 = flatten(conv2)  # 5x5x40 = 1000 feature \n",
    "    #print(tf.shape(fc1), type(fc1))\n",
    "    fc0 = tf.concat(1, [fc2, fc1])  \n",
    "    #fc0 = tf.reshape(conv2, [-1, weights['wf3'].get_shape().as_list()[0]])\n",
    "    fc0 = tf.nn.dropout(fc0, dropout)\n",
    "\n",
    "    # Layer 2.5 : concatenate layer 1, layer 2 features, input = 2000, output = 800\n",
    "    fc0 = tf.add(tf.matmul(fc0, weights['wf35']), biases['bf35'])\n",
    "    fc0 = tf.nn.relu(fc0)\n",
    "    fc0 = tf.nn.dropout(fc0, dropout)\n",
    "    \n",
    "    # TODO: Layer 4: Fully Connected. Input = 800. Output = 300.\n",
    "    conv4 = tf.add(tf.matmul(fc0, weights['wf4']), biases['bf4'])\n",
    "\n",
    "    # TODO: Activation.\n",
    "    conv4 = tf.nn.relu(conv4)\n",
    "    \n",
    "    # Add Dropout (regulator).\n",
    "    conv4 = tf.nn.dropout(conv4, dropout)\n",
    "\n",
    "    # TODO: Layer 5: Fully Connected. Input = 300. Output = 210.\n",
    "    conv5 = tf.add(tf.matmul(conv4, weights['wf5']), biases['bf5'])\n",
    "\n",
    "    # TODO: Activation.\n",
    "    conv5 = tf.nn.relu(conv5)\n",
    "    \n",
    "    # Add Dropout (regulator) berfore last layer.\n",
    "    conv5 = tf.nn.dropout(conv5, dropout)\n",
    "\n",
    "    # TODO: Layer 6: Fully Connected. Input = 210. Output = 43.\n",
    "    logits = tf.add(tf.matmul(conv5, weights['out']), biases['out'])\n",
    "\n",
    "    # Return the result of the last fully connected layer.\n",
    "    return logits"
   ]
  },
  {
   "cell_type": "markdown",
   "metadata": {},
   "source": [
    "---\n",
    "#### Features and Labels\n",
    "Train LeNet to classify [German Traffic Sign Dataset](http://benchmark.ini.rub.de/?section=gtsrb&subsection=dataset) data.\n",
    "\n",
    "`x` is a placeholder for a batch of input images.\n",
    "`y` is a placeholder for a batch of output labels."
   ]
  },
  {
   "cell_type": "code",
   "execution_count": 40,
   "metadata": {
    "collapsed": false
   },
   "outputs": [],
   "source": [
    "x = tf.placeholder(tf.float32, (None, 32, 32, 1))\n",
    "#x = tf.placeholder(tf.float32, (None, 32, 32))\n",
    "y = tf.placeholder(tf.int32, (None))\n",
    "one_hot_y = tf.one_hot(y, 43)\n",
    "keep_prob = tf.placeholder(tf.float32)"
   ]
  },
  {
   "cell_type": "markdown",
   "metadata": {
    "deletable": true,
    "editable": true
   },
   "source": [
    "### Train, Validate and Test the Model"
   ]
  },
  {
   "cell_type": "markdown",
   "metadata": {
    "deletable": true,
    "editable": true
   },
   "source": [
    "A validation set can be used to assess how well the model is performing. A low accuracy on the training and validation\n",
    "sets imply underfitting. A high accuracy on the training set but low accuracy on the validation set implies overfitting."
   ]
  },
  {
   "cell_type": "code",
   "execution_count": 41,
   "metadata": {
    "collapsed": false,
    "deletable": true,
    "editable": true
   },
   "outputs": [],
   "source": [
    "### Train your model here.\n",
    "### Calculate and report the accuracy on the training and validation set.\n",
    "### Once a final model architecture is selected, \n",
    "### the accuracy on the test set should be calculated and reported as well.\n",
    "### Feel free to use as many code cells as needed.\n",
    "\n",
    "## Training Pipeline\n",
    "# create a train pipeline to classsify traffic sign images\n",
    "rate = 0.0009\n",
    "\n",
    "logits = LeNet(x, keep_prob)\n",
    "cross_entropy = tf.nn.softmax_cross_entropy_with_logits(logits=logits, labels=one_hot_y)\n",
    "loss_operation = tf.reduce_mean(cross_entropy)\n",
    "optimizer = tf.train.AdamOptimizer(learning_rate=rate)\n",
    "training_operation = optimizer.minimize(loss_operation)"
   ]
  },
  {
   "cell_type": "code",
   "execution_count": 42,
   "metadata": {
    "collapsed": false
   },
   "outputs": [],
   "source": [
    "## Model Evaluation\n",
    "correct_prediction = tf.equal(tf.argmax(logits, 1), tf.argmax(one_hot_y, 1))\n",
    "accuracy_operation = tf.reduce_mean(tf.cast(correct_prediction, tf.float32))\n",
    "saver = tf.train.Saver()\n",
    "\n",
    "def evaluate(x_data, y_data):\n",
    "    num_examples = len(x_data)\n",
    "    total_accuracy = 0\n",
    "    sess = tf.get_default_session()\n",
    "    for offset in range(0, num_examples, BATCH_SIZE):\n",
    "        batch_x, batch_y = x_data[offset:offset+BATCH_SIZE], y_data[offset:offset+BATCH_SIZE]\n",
    "        accuracy = sess.run(accuracy_operation, feed_dict={x:batch_x, y:batch_y, keep_prob: 1.})\n",
    "        total_accuracy += (accuracy * len(batch_x))\n",
    "    return total_accuracy / num_examples"
   ]
  },
  {
   "cell_type": "code",
   "execution_count": 43,
   "metadata": {
    "collapsed": false,
    "scrolled": false
   },
   "outputs": [
    {
     "name": "stdout",
     "output_type": "stream",
     "text": [
      "Training...\n",
      "\n",
      "\n",
      "EPOCH 1...\n",
      "Validation Accuracy = 0.792\n",
      "\n",
      "EPOCH 2...\n",
      "Validation Accuracy = 0.910\n",
      "\n",
      "EPOCH 3...\n",
      "Validation Accuracy = 0.946\n",
      "\n",
      "EPOCH 4...\n",
      "Validation Accuracy = 0.942\n",
      "\n",
      "EPOCH 5...\n",
      "Validation Accuracy = 0.956\n",
      "\n",
      "EPOCH 6...\n",
      "Validation Accuracy = 0.960\n",
      "\n",
      "EPOCH 7...\n",
      "Validation Accuracy = 0.961\n",
      "\n",
      "EPOCH 8...\n",
      "Validation Accuracy = 0.970\n",
      "\n",
      "EPOCH 9...\n",
      "Validation Accuracy = 0.964\n",
      "\n",
      "EPOCH 10...\n",
      "Validation Accuracy = 0.962\n",
      "\n",
      "EPOCH 11...\n",
      "Validation Accuracy = 0.970\n",
      "\n",
      "EPOCH 12...\n",
      "Validation Accuracy = 0.966\n",
      "\n",
      "EPOCH 13...\n",
      "Validation Accuracy = 0.970\n",
      "\n",
      "EPOCH 14...\n",
      "Validation Accuracy = 0.967\n",
      "\n",
      "EPOCH 15...\n",
      "Validation Accuracy = 0.967\n",
      "\n",
      "EPOCH 16...\n",
      "Validation Accuracy = 0.974\n",
      "\n",
      "EPOCH 17...\n",
      "Validation Accuracy = 0.970\n",
      "\n",
      "EPOCH 18...\n",
      "Validation Accuracy = 0.974\n",
      "\n",
      "EPOCH 19...\n",
      "Validation Accuracy = 0.968\n",
      "\n",
      "EPOCH 20...\n",
      "Validation Accuracy = 0.975\n",
      "\n",
      "EPOCH 21...\n",
      "Validation Accuracy = 0.976\n",
      "\n",
      "EPOCH 22...\n",
      "Validation Accuracy = 0.980\n",
      "\n",
      "EPOCH 23...\n",
      "Validation Accuracy = 0.973\n",
      "\n",
      "EPOCH 24...\n",
      "Validation Accuracy = 0.978\n",
      "\n",
      "EPOCH 25...\n",
      "Validation Accuracy = 0.976\n",
      "\n",
      "EPOCH 26...\n",
      "Validation Accuracy = 0.968\n",
      "\n",
      "EPOCH 27...\n",
      "Validation Accuracy = 0.970\n",
      "\n",
      "EPOCH 28...\n",
      "Validation Accuracy = 0.970\n",
      "\n",
      "EPOCH 29...\n",
      "Validation Accuracy = 0.973\n",
      "\n",
      "EPOCH 30...\n",
      "Validation Accuracy = 0.970\n",
      "\n",
      "EPOCH 31...\n",
      "Validation Accuracy = 0.978\n",
      "\n",
      "EPOCH 32...\n",
      "Validation Accuracy = 0.980\n",
      "\n",
      "EPOCH 33...\n",
      "Validation Accuracy = 0.974\n",
      "\n",
      "EPOCH 34...\n",
      "Validation Accuracy = 0.977\n",
      "\n",
      "EPOCH 35...\n",
      "Validation Accuracy = 0.971\n",
      "\n",
      "EPOCH 36...\n",
      "Validation Accuracy = 0.981\n",
      "\n",
      "EPOCH 37...\n",
      "Validation Accuracy = 0.978\n",
      "\n",
      "EPOCH 38...\n",
      "Validation Accuracy = 0.978\n",
      "\n",
      "EPOCH 39...\n",
      "Validation Accuracy = 0.984\n",
      "\n",
      "EPOCH 40...\n",
      "Validation Accuracy = 0.974\n",
      "\n",
      "EPOCH 41...\n",
      "Validation Accuracy = 0.976\n",
      "\n",
      "EPOCH 42...\n",
      "Validation Accuracy = 0.981\n",
      "\n",
      "EPOCH 43...\n",
      "Validation Accuracy = 0.972\n",
      "\n",
      "EPOCH 44...\n",
      "Validation Accuracy = 0.976\n",
      "\n",
      "EPOCH 45...\n",
      "Validation Accuracy = 0.985\n",
      "\n",
      "EPOCH 46...\n",
      "Validation Accuracy = 0.981\n",
      "\n",
      "EPOCH 47...\n",
      "Validation Accuracy = 0.978\n",
      "\n",
      "EPOCH 48...\n",
      "Validation Accuracy = 0.971\n",
      "\n",
      "EPOCH 49...\n",
      "Validation Accuracy = 0.975\n",
      "\n",
      "EPOCH 50...\n",
      "Validation Accuracy = 0.974\n",
      "\n",
      "EPOCH 51...\n",
      "Validation Accuracy = 0.973\n",
      "\n",
      "EPOCH 52...\n",
      "Validation Accuracy = 0.973\n",
      "\n",
      "EPOCH 53...\n",
      "Validation Accuracy = 0.973\n",
      "\n",
      "EPOCH 54...\n",
      "Validation Accuracy = 0.979\n",
      "\n",
      "EPOCH 55...\n",
      "Validation Accuracy = 0.979\n",
      "\n",
      "EPOCH 56...\n",
      "Validation Accuracy = 0.976\n",
      "\n",
      "EPOCH 57...\n",
      "Validation Accuracy = 0.982\n",
      "\n",
      "EPOCH 58...\n",
      "Validation Accuracy = 0.978\n",
      "\n",
      "EPOCH 59...\n",
      "Validation Accuracy = 0.980\n",
      "\n",
      "EPOCH 60...\n",
      "Validation Accuracy = 0.983\n",
      "\n",
      "Model saved\n"
     ]
    },
    {
     "data": {
      "image/png": "[encoded data removed]",
      "text/plain": [
       "<matplotlib.figure.Figure at 0x7f969a7dfc50>"
      ]
     },
     "metadata": {},
     "output_type": "display_data"
    }
   ],
   "source": [
    "## Train the Model\n",
    "# Run the training data through the training pipeline to train the model.\n",
    "# Befor each epoch, shuffle the training set.\n",
    "# After each epoch, measure the loss and accuracy of the validation set.\n",
    "# Save the model after training.\n",
    "from sklearn.utils import shuffle\n",
    "\n",
    "epo_list = []\n",
    "acc_list = []\n",
    "\n",
    "with tf.Session() as sess:\n",
    "    sess.run(tf.global_variables_initializer())\n",
    "    num_examples = len(X_tr_nor)\n",
    "    \n",
    "    print('Training...\\n\\n')\n",
    "    for i in range(EPOCHS):\n",
    "        X_tr_nor, y_train = shuffle(X_tr_nor, y_train)\n",
    "        for offset in range(0, num_examples, BATCH_SIZE):\n",
    "            end = offset + BATCH_SIZE\n",
    "            batch_x, batch_y = X_tr_nor[offset:end], y_train[offset:end]\n",
    "            sess.run(training_operation, feed_dict={x: batch_x, y: batch_y, keep_prob:Dropout})\n",
    "        validation_accuracy = evaluate(X_va_nor, y_valid)\n",
    "        print('EPOCH {}...'.format(i+1))\n",
    "        print('Validation Accuracy = {:.3f}'.format(validation_accuracy))\n",
    "        print()\n",
    "        epo_list.append(i+1)\n",
    "        acc_list.append(validation_accuracy)\n",
    "    \n",
    "    saver.save(sess, './lenet')\n",
    "    print('Model saved')\n",
    "    plt.plot(epo_list, acc_list)\n",
    "    plt.show()"
   ]
  },
  {
   "cell_type": "code",
   "execution_count": 44,
   "metadata": {
    "collapsed": false,
    "scrolled": true
   },
   "outputs": [
    {
     "name": "stdout",
     "output_type": "stream",
     "text": [
      "Test Set Accuracy = 0.965\n"
     ]
    }
   ],
   "source": [
    "# Test the model\n",
    "\n",
    "with tf.Session() as sess:\n",
    "    sess.run(tf.global_variables_initializer())\n",
    "    #saver2 = tf.train.import_meta_graph('./lenet.meta')\n",
    "    saver2 = tf.train.Saver()\n",
    "    saver2.restore(sess, \"./lenet\")\n",
    "    test_accuracy = evaluate(X_ts_nor, y_test)\n",
    "    print(\"Test Set Accuracy = {:.3f}\".format(test_accuracy))"
   ]
  },
  {
   "cell_type": "markdown",
   "metadata": {
    "deletable": true,
    "editable": true
   },
   "source": [
    "---\n",
    "\n",
    "## Step 3: Test a Model on New Images\n",
    "\n",
    "To give yourself more insight into how your model is working, download at least five pictures of German traffic signs from the web and use your model to predict the traffic sign type.\n",
    "\n",
    "You may find `signnames.csv` useful as it contains mappings from the class id (integer) to the actual sign name."
   ]
  },
  {
   "cell_type": "markdown",
   "metadata": {
    "deletable": true,
    "editable": true
   },
   "source": [
    "### Load and Output the Images"
   ]
  },
  {
   "cell_type": "code",
   "execution_count": null,
   "metadata": {
    "collapsed": false,
    "deletable": true,
    "editable": true
   },
   "outputs": [],
   "source": [
    "### Load the images and plot them here.\n",
    "### Feel free to use as many code cells as needed.\n",
    "\n",
    "# Load traffic sign images I found in : http://jeremyshannon.com/2017/01/13/udacity-sdcnd-traffic-sign-classifier.html\n",
    "import glob\n",
    "\n",
    "fig, axs = plt.subplots(figsize=(4, 2), row=2, col=4)\n",
    "testing_images = []\n",
    "\n",
    "for i, img in enumerate(glob.glob('./testing_images/*.jpg')):\n",
    "    image = cv2.imread(img)\n",
    "    axs[i].imshow(cv2.cvtColor(image, cv2.COLOR_BGR2RGB))\n",
    "    testing_images.append(image)\n",
    "\n",
    "testing_images = np.asarray(testing_images)\n",
    "\n",
    "test_gray = np.array([cv2.cvtColor(i.astype(np.float32), cv2.COLOR_BGR2GRAY)  for i in testing_images])\n",
    "test_nor = (test_gray - 128.) / 128.\n",
    "tset_nor = test_nor[..., np.newaxis]\n",
    "\n",
    "print(tset_nor.shape)"
   ]
  },
  {
   "cell_type": "markdown",
   "metadata": {
    "deletable": true,
    "editable": true
   },
   "source": [
    "### Predict the Sign Type for Each Image"
   ]
  },
  {
   "cell_type": "code",
   "execution_count": null,
   "metadata": {
    "collapsed": true,
    "deletable": true,
    "editable": true
   },
   "outputs": [],
   "source": [
    "### Run the predictions here and use the model to output the prediction for each image.\n",
    "### Make sure to pre-process the images with the same pre-processing pipeline used earlier.\n",
    "### Feel free to use as many code cells as needed.\n",
    "test_labels = [3, 11, 1, 12, 38, 34, 18, 25]\n",
    "test_accuracy = 0  # initialize as 0\n",
    "\n",
    "with tf.Session() as sess:\n",
    "    sess.run(tf.global_variables_initializer())\n",
    "    saver3 = tf.train.import_meta_graph('./lenet.meta')\n",
    "    saver3.restore(sess, \"./lenet\")\n",
    "    test_accuracy = evaluate(tset_nor, test_labels)\n",
    "    print(\"Test Set Accuracy = {:.3f}\".format(test_accuracy))"
   ]
  },
  {
   "cell_type": "markdown",
   "metadata": {
    "deletable": true,
    "editable": true
   },
   "source": [
    "### Analyze Performance"
   ]
  },
  {
   "cell_type": "code",
   "execution_count": null,
   "metadata": {
    "collapsed": true,
    "deletable": true,
    "editable": true
   },
   "outputs": [],
   "source": [
    "### Calculate the accuracy for these 5 new images. \n",
    "### For example, if the model predicted 1 out of 5 signs correctly, it's 20% accurate on these new images."
   ]
  },
  {
   "cell_type": "markdown",
   "metadata": {
    "deletable": true,
    "editable": true
   },
   "source": [
    "### Output Top 5 Softmax Probabilities For Each Image Found on the Web"
   ]
  },
  {
   "cell_type": "markdown",
   "metadata": {
    "deletable": true,
    "editable": true
   },
   "source": [
    "For each of the new images, print out the model's softmax probabilities to show the **certainty** of the model's predictions (limit the output to the top 5 probabilities for each image). [`tf.nn.top_k`](https://www.tensorflow.org/versions/r0.12/api_docs/python/nn.html#top_k) could prove helpful here. \n",
    "\n",
    "The example below demonstrates how tf.nn.top_k can be used to find the top k predictions for each image.\n",
    "\n",
    "`tf.nn.top_k` will return the values and indices (class ids) of the top k predictions. So if k=3, for each sign, it'll return the 3 largest probabilities (out of a possible 43) and the correspoding class ids.\n",
    "\n",
    "Take this numpy array as an example. The values in the array represent predictions. The array contains softmax probabilities for five candidate images with six possible classes. `tk.nn.top_k` is used to choose the three classes with the highest probability:\n",
    "\n",
    "```\n",
    "# (5, 6) array\n",
    "a = np.array([[ 0.24879643,  0.07032244,  0.12641572,  0.34763842,  0.07893497,\n",
    "         0.12789202],\n",
    "       [ 0.28086119,  0.27569815,  0.08594638,  0.0178669 ,  0.18063401,\n",
    "         0.15899337],\n",
    "       [ 0.26076848,  0.23664738,  0.08020603,  0.07001922,  0.1134371 ,\n",
    "         0.23892179],\n",
    "       [ 0.11943333,  0.29198961,  0.02605103,  0.26234032,  0.1351348 ,\n",
    "         0.16505091],\n",
    "       [ 0.09561176,  0.34396535,  0.0643941 ,  0.16240774,  0.24206137,\n",
    "         0.09155967]])\n",
    "```\n",
    "\n",
    "Running it through `sess.run(tf.nn.top_k(tf.constant(a), k=3))` produces:\n",
    "\n",
    "```\n",
    "TopKV2(values=array([[ 0.34763842,  0.24879643,  0.12789202],\n",
    "       [ 0.28086119,  0.27569815,  0.18063401],\n",
    "       [ 0.26076848,  0.23892179,  0.23664738],\n",
    "       [ 0.29198961,  0.26234032,  0.16505091],\n",
    "       [ 0.34396535,  0.24206137,  0.16240774]]), indices=array([[3, 0, 5],\n",
    "       [0, 1, 4],\n",
    "       [0, 5, 1],\n",
    "       [1, 3, 5],\n",
    "       [1, 4, 3]], dtype=int32))\n",
    "```\n",
    "\n",
    "Looking just at the first row we get `[ 0.34763842,  0.24879643,  0.12789202]`, you can confirm these are the 3 largest probabilities in `a`. You'll also notice `[3, 0, 5]` are the corresponding indices."
   ]
  },
  {
   "cell_type": "code",
   "execution_count": null,
   "metadata": {
    "collapsed": true,
    "deletable": true,
    "editable": true
   },
   "outputs": [],
   "source": [
    "### Print out the top five softmax probabilities for the predictions on the German traffic sign images found on the web. \n",
    "### Feel free to use as many code cells as needed."
   ]
  },
  {
   "cell_type": "markdown",
   "metadata": {
    "deletable": true,
    "editable": true
   },
   "source": [
    "### Project Writeup\n",
    "\n",
    "Once you have completed the code implementation, document your results in a project writeup using this [template](https://github.com/udacity/CarND-Traffic-Sign-Classifier-Project/blob/master/writeup_template.md) as a guide. The writeup can be in a markdown or pdf file. "
   ]
  },
  {
   "cell_type": "markdown",
   "metadata": {
    "deletable": true,
    "editable": true
   },
   "source": [
    "> **Note**: Once you have completed all of the code implementations and successfully answered each question above, you may finalize your work by exporting the iPython Notebook as an HTML document. You can do this by using the menu above and navigating to  \\n\",\n",
    "    \"**File -> Download as -> HTML (.html)**. Include the finished document along with this notebook as your submission."
   ]
  },
  {
   "cell_type": "markdown",
   "metadata": {
    "deletable": true,
    "editable": true
   },
   "source": [
    "---\n",
    "\n",
    "## Step 4 (Optional): Visualize the Neural Network's State with Test Images\n",
    "\n",
    " This Section is not required to complete but acts as an additional excersise for understaning the output of a neural network's weights. While neural networks can be a great learning device they are often referred to as a black box. We can understand what the weights of a neural network look like better by plotting their feature maps. After successfully training your neural network you can see what it's feature maps look like by plotting the output of the network's weight layers in response to a test stimuli image. From these plotted feature maps, it's possible to see what characteristics of an image the network finds interesting. For a sign, maybe the inner network feature maps react with high activation to the sign's boundary outline or to the contrast in the sign's painted symbol.\n",
    "\n",
    " Provided for you below is the function code that allows you to get the visualization output of any tensorflow weight layer you want. The inputs to the function should be a stimuli image, one used during training or a new one you provided, and then the tensorflow variable name that represents the layer's state during the training process, for instance if you wanted to see what the [LeNet lab's](https://classroom.udacity.com/nanodegrees/nd013/parts/fbf77062-5703-404e-b60c-95b78b2f3f9e/modules/6df7ae49-c61c-4bb2-a23e-6527e69209ec/lessons/601ae704-1035-4287-8b11-e2c2716217ad/concepts/d4aca031-508f-4e0b-b493-e7b706120f81) feature maps looked like for it's second convolutional layer you could enter conv2 as the tf_activation variable.\n",
    "\n",
    "For an example of what feature map outputs look like, check out NVIDIA's results in their paper [End-to-End Deep Learning for Self-Driving Cars](https://devblogs.nvidia.com/parallelforall/deep-learning-self-driving-cars/) in the section Visualization of internal CNN State. NVIDIA was able to show that their network's inner weights had high activations to road boundary lines by comparing feature maps from an image with a clear path to one without. Try experimenting with a similar test to show that your trained network's weights are looking for interesting features, whether it's looking at differences in feature maps from images with or without a sign, or even what feature maps look like in a trained network vs a completely untrained one on the same sign image.\n",
    "\n",
    "<figure>\n",
    " <img src=\"visualize_cnn.png\" width=\"380\" alt=\"Combined Image\" />\n",
    " <figcaption>\n",
    " <p></p> \n",
    " <p style=\"text-align: center;\"> Your output should look something like this (above)</p> \n",
    " </figcaption>\n",
    "</figure>\n",
    " <p></p> \n"
   ]
  },
  {
   "cell_type": "code",
   "execution_count": null,
   "metadata": {
    "collapsed": true,
    "deletable": true,
    "editable": true
   },
   "outputs": [],
   "source": [
    "### Visualize your network's feature maps here.\n",
    "### Feel free to use as many code cells as needed.\n",
    "\n",
    "# image_input: the test image being fed into the network to produce the feature maps\n",
    "# tf_activation: should be a tf variable name used during your training procedure that represents the calculated state of a specific weight layer\n",
    "# activation_min/max: can be used to view the activation contrast in more detail, by default matplot sets min and max to the actual min and max values of the output\n",
    "# plt_num: used to plot out multiple different weight feature map sets on the same block, just extend the plt number for each new feature map entry\n",
    "\n",
    "def outputFeatureMap(image_input, tf_activation, activation_min=-1, activation_max=-1 ,plt_num=1):\n",
    "    # Here make sure to preprocess your image_input in a way your network expects\n",
    "    # with size, normalization, ect if needed\n",
    "    # image_input =\n",
    "    # Note: x should be the same name as your network's tensorflow data placeholder variable\n",
    "    # If you get an error tf_activation is not defined it may be having trouble accessing the variable from inside a function\n",
    "    activation = tf_activation.eval(session=sess,feed_dict={x : image_input})\n",
    "    featuremaps = activation.shape[3]\n",
    "    plt.figure(plt_num, figsize=(15,15))\n",
    "    for featuremap in range(featuremaps):\n",
    "        plt.subplot(6,8, featuremap+1) # sets the number of feature maps to show on each row and column\n",
    "        plt.title('FeatureMap ' + str(featuremap)) # displays the feature map number\n",
    "        if activation_min != -1 & activation_max != -1:\n",
    "            plt.imshow(activation[0,:,:, featuremap], interpolation=\"nearest\", vmin =activation_min, vmax=activation_max, cmap=\"gray\")\n",
    "        elif activation_max != -1:\n",
    "            plt.imshow(activation[0,:,:, featuremap], interpolation=\"nearest\", vmax=activation_max, cmap=\"gray\")\n",
    "        elif activation_min !=-1:\n",
    "            plt.imshow(activation[0,:,:, featuremap], interpolation=\"nearest\", vmin=activation_min, cmap=\"gray\")\n",
    "        else:\n",
    "            plt.imshow(activation[0,:,:, featuremap], interpolation=\"nearest\", cmap=\"gray\")"
   ]
  }
 ],
 "metadata": {
  "anaconda-cloud": {},
  "kernelspec": {
   "display_name": "Python 3",
   "language": "python",
   "name": "python3"
  },
  "language_info": {
   "codemirror_mode": {
    "name": "ipython",
    "version": 3
   },
   "file_extension": ".py",
   "mimetype": "text/x-python",
   "name": "python",
   "nbconvert_exporter": "python",
   "pygments_lexer": "ipython3",
   "version": "3.5.2"
  },
  "widgets": {
   "state": {},
   "version": "1.1.2"
  }
 },
 "nbformat": 4,
 "nbformat_minor": 0
}
